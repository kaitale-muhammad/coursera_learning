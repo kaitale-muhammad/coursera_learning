{
 "cells": [
  {
   "cell_type": "markdown",
   "id": "240f25fa-2132-4bd4-a5f4-e7407fd9c34e",
   "metadata": {},
   "source": [
    "# My coursera learning"
   ]
  },
  {
   "cell_type": "markdown",
   "id": "f326b118-8c8c-4359-867c-4ff12ddacc50",
   "metadata": {},
   "source": [
    "### This is the introducttion to to some of the tools for data science"
   ]
  },
  {
   "cell_type": "markdown",
   "id": "2536a7a9-5297-411a-9213-4cf06b39f0d7",
   "metadata": {},
   "source": [
    "# List of data science languages"
   ]
  },
  {
   "cell_type": "markdown",
   "id": "4c979132-fb94-456c-b850-87be20c518ce",
   "metadata": {},
   "source": [
    "##### python\n",
    "##### R\n",
    "##### Scala\n",
    "##### Julia\n",
    "##### C++\n",
    "##### Java"
   ]
  },
  {
   "cell_type": "markdown",
   "id": "6428f2f3-91ea-4e17-8a78-ae90525cbd5a",
   "metadata": {},
   "source": [
    "# Data science libraries"
   ]
  },
  {
   "cell_type": "markdown",
   "id": "8838f4c7-5c58-4fb5-8fed-40786d428ec4",
   "metadata": {},
   "source": [
    "##### Pandas\n",
    "##### Numpy\n",
    "##### ggptot\n",
    "##### matplotlib\n",
    "##### seaborn"
   ]
  },
  {
   "cell_type": "markdown",
   "id": "2e2564a9-25ab-4239-8fc0-84cdec2ed282",
   "metadata": {},
   "source": [
    "# Data science tools"
   ]
  },
  {
   "attachments": {},
   "cell_type": "markdown",
   "id": "e574db7c-3ba9-4330-8ebd-1b26e5f14bcb",
   "metadata": {},
   "source": [
    "##### Apache spark\n",
    "##### Power BI\n",
    "##### Tableau\n",
    "##### Apache Kafka\n",
    "##### IBM Cognos Analytics tool"
   ]
  },
  {
   "cell_type": "markdown",
   "id": "3f498a23-de12-440a-bcfc-c3e6e09c8e80",
   "metadata": {},
   "source": [
    "# Arithmetic operation"
   ]
  },
  {
   "cell_type": "code",
   "execution_count": 1,
   "id": "00bf0beb-8203-459c-b71c-b045be693d51",
   "metadata": {},
   "outputs": [
    {
     "data": {
      "text/plain": [
       "10"
      ]
     },
     "execution_count": 1,
     "metadata": {},
     "output_type": "execute_result"
    }
   ],
   "source": [
    "5 + 5 "
   ]
  },
  {
   "cell_type": "markdown",
   "id": "94fec725-5ab5-4ecc-8d3a-e2a9ad410d5b",
   "metadata": {},
   "source": [
    "# Multiplication and addition "
   ]
  },
  {
   "cell_type": "code",
   "execution_count": 4,
   "id": "0cf3973b-4362-4899-929c-a20e60394208",
   "metadata": {},
   "outputs": [
    {
     "data": {
      "text/plain": [
       "25"
      ]
     },
     "execution_count": 4,
     "metadata": {},
     "output_type": "execute_result"
    }
   ],
   "source": [
    "5 * 5"
   ]
  },
  {
   "cell_type": "code",
   "execution_count": 5,
   "id": "b52da4c9-bc9b-40b5-864a-26b1f2d8c974",
   "metadata": {},
   "outputs": [
    {
     "data": {
      "text/plain": [
       "10"
      ]
     },
     "execution_count": 5,
     "metadata": {},
     "output_type": "execute_result"
    }
   ],
   "source": [
    "5 + 5"
   ]
  },
  {
   "cell_type": "markdown",
   "id": "1a31b44e-60e5-4471-8bab-f6119b0e9c4a",
   "metadata": {},
   "source": [
    "# Hours to minutes"
   ]
  },
  {
   "cell_type": "code",
   "execution_count": 8,
   "id": "5e2bff10-cd92-422a-a9ce-36b0d676d2a3",
   "metadata": {},
   "outputs": [
    {
     "data": {
      "text/plain": [
       "120"
      ]
     },
     "execution_count": 8,
     "metadata": {},
     "output_type": "execute_result"
    }
   ],
   "source": [
    "hour = 60\n",
    "hour * 2"
   ]
  },
  {
   "cell_type": "markdown",
   "id": "f4f85d26-f827-4a26-aab7-2c6ed317d4a4",
   "metadata": {},
   "source": [
    "# Objectives"
   ]
  },
  {
   "cell_type": "markdown",
   "id": "01a9e4a0-204a-4b8b-81a1-ee9378824186",
   "metadata": {},
   "source": [
    "##### Leant how to create a jupyter notebook\n",
    "##### Leant the tools for data science\n",
    "##### How to use the tools for data scirnce"
   ]
  },
  {
   "cell_type": "markdown",
   "id": "2eddbd0c-ddf4-482a-a5f5-55910701cddb",
   "metadata": {},
   "source": [
    "# About the Author"
   ]
  },
  {
   "cell_type": "markdown",
   "id": "1acbbf0f-5ec0-48cc-8c34-f1b3dc739adc",
   "metadata": {},
   "source": [
    "### Kaitale Muhammad \n",
    "### Ugandan\n",
    "### 0780531741\n",
    "### kaitalemuhammad1@gmail.com"
   ]
  },
  {
   "cell_type": "code",
   "execution_count": null,
   "id": "fad1753f-d70b-4471-8cfc-44858fd1e9b5",
   "metadata": {},
   "outputs": [],
   "source": []
  }
 ],
 "metadata": {
  "kernelspec": {
   "display_name": "Python 3 (ipykernel)",
   "language": "python",
   "name": "python3"
  },
  "language_info": {
   "codemirror_mode": {
    "name": "ipython",
    "version": 3
   },
   "file_extension": ".py",
   "mimetype": "text/x-python",
   "name": "python",
   "nbconvert_exporter": "python",
   "pygments_lexer": "ipython3",
   "version": "3.11.3"
  }
 },
 "nbformat": 4,
 "nbformat_minor": 5
}
